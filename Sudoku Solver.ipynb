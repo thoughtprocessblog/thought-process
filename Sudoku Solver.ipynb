{
 "cells": [
  {
   "cell_type": "markdown",
   "metadata": {},
   "source": [
    "Sudoku solver:"
   ]
  },
  {
   "cell_type": "code",
   "execution_count": 7,
   "metadata": {
    "scrolled": true
   },
   "outputs": [],
   "source": [
    "grid = [\n",
    "    [0,3,0,0,0,0,0,0,0],\n",
    "    [0,0,0,1,9,5,0,0,0],\n",
    "    [0,0,8,0,0,0,0,6,0],\n",
    "    [8,0,0,0,6,0,0,0,0],\n",
    "    [4,0,0,8,0,0,0,0,1],\n",
    "    [0,0,0,0,2,0,0,0,0],\n",
    "    [0,6,0,0,0,0,2,8,0],\n",
    "    [0,0,0,4,1,9,0,0,5],\n",
    "    [0,0,0,0,0,0,0,7,0],\n",
    "]"
   ]
  },
  {
   "cell_type": "code",
   "execution_count": 8,
   "metadata": {
    "scrolled": true
   },
   "outputs": [
    {
     "name": "stdout",
     "output_type": "stream",
     "text": [
      "0 3 0  | 0 0 0  | 0 0 0\n",
      "0 0 0  | 1 9 5  | 0 0 0\n",
      "0 0 8  | 0 0 0  | 0 6 0\n",
      "------------------------\n",
      "8 0 0  | 0 6 0  | 0 0 0\n",
      "4 0 0  | 8 0 0  | 0 0 1\n",
      "0 0 0  | 0 2 0  | 0 0 0\n",
      "------------------------\n",
      "0 6 0  | 0 0 0  | 2 8 0\n",
      "0 0 0  | 4 1 9  | 0 0 5\n",
      "0 0 0  | 0 0 0  | 0 7 0\n"
     ]
    }
   ],
   "source": [
    "def show_grid(board):\n",
    "    for i in range(0,len(board)):\n",
    "        if i % 3 == 0 and i != 0:\n",
    "            print(\"------------------------\")\n",
    "        for j in range(0, len(board[0])):\n",
    "            if j % 3 == 0 and j != 0:\n",
    "                    print(\" | \", end=\"\")\n",
    "            if j == 8:\n",
    "                print(board[i][j])\n",
    "            else:\n",
    "                print(str(board[i][j]) + \" \", end=\"\")\n",
    "\n",
    "show_grid(grid)"
   ]
  },
  {
   "cell_type": "code",
   "execution_count": 9,
   "metadata": {
    "scrolled": false
   },
   "outputs": [
    {
     "name": "stdout",
     "output_type": "stream",
     "text": [
      "(0, 0)\n"
     ]
    }
   ],
   "source": [
    "def find_missing(board):\n",
    "    for row in range(0, len(board)):\n",
    "        for col in range(0, len(board[0])):\n",
    "            if board[row][col] == 0:\n",
    "                return (row, col)\n",
    "            \n",
    "    return None\n",
    "            \n",
    "print(find_missing(grid))"
   ]
  },
  {
   "cell_type": "markdown",
   "metadata": {},
   "source": [
    "Looking back there would have been easier ways of doing this but it works so why complain :D."
   ]
  },
  {
   "cell_type": "code",
   "execution_count": 10,
   "metadata": {},
   "outputs": [
    {
     "name": "stdout",
     "output_type": "stream",
     "text": [
      "9\n"
     ]
    },
    {
     "data": {
      "text/plain": [
       "2"
      ]
     },
     "execution_count": 10,
     "metadata": {},
     "output_type": "execute_result"
    }
   ],
   "source": [
    "def square(board, coords): # coords as tuple with (row, col)\n",
    "    if coords[0] <= 2:\n",
    "        if coords[1] <= 2:\n",
    "            return 1\n",
    "        elif coords[1] in range(3,6):\n",
    "            return 2\n",
    "        else:\n",
    "            return 3\n",
    "    elif coords[0] in range(3,6):\n",
    "        if coords[1] <= 2:\n",
    "            return 4\n",
    "        elif coords[1] in range(3,6):\n",
    "            return 5\n",
    "        else:\n",
    "            return 6\n",
    "    else:\n",
    "        if coords[1] <= 2:\n",
    "            return 7\n",
    "        elif coords[1] in range(3,6):\n",
    "            return 8\n",
    "        else:\n",
    "            return 9\n",
    "\n",
    "print(grid[1][4])\n",
    "square(grid, (1,4))"
   ]
  },
  {
   "cell_type": "code",
   "execution_count": 11,
   "metadata": {
    "scrolled": false
   },
   "outputs": [
    {
     "data": {
      "text/plain": [
       "True"
      ]
     },
     "execution_count": 11,
     "metadata": {},
     "output_type": "execute_result"
    }
   ],
   "source": [
    "def check_correctness(board, value, coords):\n",
    "    row, col = coords\n",
    "    #check row\n",
    "    for element in range(0, len(board[0])):\n",
    "        if board[row][element] == value and element != col:\n",
    "            return False\n",
    "        \n",
    "    #check column\n",
    "    for i in range(0, len(board)):\n",
    "        if board[i][col] == value and i != row:\n",
    "            return False\n",
    "    \n",
    "    #check square\n",
    "    sq = square(board, coords)\n",
    "    for x in range(0, len(board)):\n",
    "        for y in range(0 ,len(board[0])):\n",
    "            if square(board, (x,y)) == sq:\n",
    "                if board[x][y] == value and (x,y) != coords:\n",
    "                    return False\n",
    "    \n",
    "    return True\n",
    "    \n",
    "check_correctness(grid, grid[0][1], (0,1)) "
   ]
  },
  {
   "cell_type": "markdown",
   "metadata": {},
   "source": [
    "This one works! Didn't use all the things from the first attempt but instead just did this simple backtracking. Works perfectly. Largely taken from computerphile video though."
   ]
  },
  {
   "cell_type": "code",
   "execution_count": 14,
   "metadata": {
    "scrolled": true
   },
   "outputs": [
    {
     "name": "stdout",
     "output_type": "stream",
     "text": [
      "1 3 2  | 6 4 8  | 5 9 7\n",
      "6 4 7  | 1 9 5  | 8 3 2\n",
      "9 5 8  | 2 3 7  | 1 6 4\n",
      "------------------------\n",
      "8 2 5  | 7 6 1  | 9 4 3\n",
      "4 9 6  | 8 5 3  | 7 2 1\n",
      "3 1 0  | 9 2 4  | 6 5 8\n",
      "------------------------\n",
      "5 6 1  | 3 7 0  | 2 8 9\n",
      "2 7 3  | 4 1 9  | 0 0 5\n",
      "0 8 4  | 5 0 2  | 3 7 6\n",
      "None\n"
     ]
    }
   ],
   "source": [
    "def solve_backtracking(board):\n",
    "    \n",
    "    for i in range(9):\n",
    "        for j in range(9):\n",
    "            if board[i][j] == 0:\n",
    "                for e in range(1,10):\n",
    "                    if check_correctness(board, e, (i,j)):\n",
    "                        board[i][j] = e\n",
    "                        solve_backtracking(board)\n",
    "                        board[i][j] = 0\n",
    "                        return\n",
    "                    \n",
    "    print(show_grid(board))\n",
    "                    \n",
    "solve_backtracking(grid)\n",
    "                    "
   ]
  },
  {
   "cell_type": "code",
   "execution_count": 19,
   "metadata": {},
   "outputs": [
    {
     "name": "stdout",
     "output_type": "stream",
     "text": [
      "Aight\n"
     ]
    }
   ],
   "source": [
    "def test():\n",
    "    return\n",
    "if test():\n",
    "    print(\"k\")\n",
    "else:\n",
    "    print(\"Aight\")"
   ]
  }
 ],
 "metadata": {
  "kernelspec": {
   "display_name": "Python 3",
   "language": "python",
   "name": "python3"
  },
  "language_info": {
   "codemirror_mode": {
    "name": "ipython",
    "version": 3
   },
   "file_extension": ".py",
   "mimetype": "text/x-python",
   "name": "python",
   "nbconvert_exporter": "python",
   "pygments_lexer": "ipython3",
   "version": "3.8.3"
  }
 },
 "nbformat": 4,
 "nbformat_minor": 4
}
